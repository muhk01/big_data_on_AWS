{
 "cells": [
  {
   "attachments": {},
   "cell_type": "markdown",
   "id": "aa8791da",
   "metadata": {},
   "source": [
    "# DynamoDB with BOTO3"
   ]
  },
  {
   "cell_type": "code",
   "execution_count": 1,
   "id": "80530903",
   "metadata": {},
   "outputs": [],
   "source": [
    "import boto3"
   ]
  },
  {
   "cell_type": "code",
   "execution_count": 5,
   "id": "df233cdb",
   "metadata": {},
   "outputs": [],
   "source": [
    "aws_access_key_id = ''\n",
    "aws_secret_access_key = ''\n",
    "region_name = ''  # Singapore region\n",
    "\n",
    "dynamodb = boto3.resource('dynamodb', aws_access_key_id=aws_access_key_id, aws_secret_access_key=aws_secret_access_key,region_name=region_name)"
   ]
  },
  {
   "attachments": {},
   "cell_type": "markdown",
   "id": "e105915a",
   "metadata": {},
   "source": [
    "#### Query Existing Table."
   ]
  },
  {
   "cell_type": "code",
   "execution_count": 9,
   "id": "92f006d7",
   "metadata": {},
   "outputs": [],
   "source": [
    "table = dynamodb.Table(table_name)\n",
    "table_name = 'song_table'\n",
    "\n",
    "key = {\n",
    "    'artist': 'Roy'\n",
    "}\n",
    "\n",
    "response = table.get_item(\n",
    "    Key=key\n",
    ")\n",
    "\n",
    "# Access the retrieved item\n",
    "item = response['Item']\n",
    "# Process the item as needed"
   ]
  },
  {
   "cell_type": "code",
   "execution_count": 10,
   "id": "6aaecbaf",
   "metadata": {},
   "outputs": [
    {
     "data": {
      "text/plain": [
       "{'artist': 'Roy', 'album_count': Decimal('3'), 'title': 'My Name is Roy'}"
      ]
     },
     "execution_count": 10,
     "metadata": {},
     "output_type": "execute_result"
    }
   ],
   "source": [
    "item"
   ]
  },
  {
   "attachments": {},
   "cell_type": "markdown",
   "id": "0c024daa",
   "metadata": {},
   "source": [
    "#### Create Table in DynamoDB"
   ]
  },
  {
   "cell_type": "code",
   "execution_count": 12,
   "id": "25e5915b",
   "metadata": {},
   "outputs": [],
   "source": [
    "new_table_name = 'employee_table'\n",
    "table = dynamodb.create_table(\n",
    "    TableName=new_table_name,\n",
    "    KeySchema=[\n",
    "        {\n",
    "            'AttributeName': 'id',\n",
    "            'KeyType': 'HASH'  # Partition key\n",
    "        }\n",
    "    ],\n",
    "    AttributeDefinitions=[\n",
    "        {\n",
    "            'AttributeName': 'id',\n",
    "            'AttributeType': 'S'  # String data type for partition key\n",
    "        }\n",
    "    ],\n",
    "    ProvisionedThroughput={\n",
    "        'ReadCapacityUnits': 5,   # Adjust according to your requirements\n",
    "        'WriteCapacityUnits': 5   # Adjust according to your requirements\n",
    "    }\n",
    ")\n",
    "\n",
    "table.wait_until_exists()"
   ]
  },
  {
   "attachments": {},
   "cell_type": "markdown",
   "id": "092d02bf",
   "metadata": {},
   "source": [
    "#### Insert New Record."
   ]
  },
  {
   "cell_type": "code",
   "execution_count": 13,
   "id": "cccaa9f7",
   "metadata": {},
   "outputs": [
    {
     "data": {
      "text/plain": [
       "{'ResponseMetadata': {'RequestId': '68TI818JJS9QRN40BU51RP154FVV4KQNSO5AEMVJF66Q9ASUAAJG',\n",
       "  'HTTPStatusCode': 200,\n",
       "  'HTTPHeaders': {'server': 'Server',\n",
       "   'date': 'Mon, 19 Jun 2023 15:53:43 GMT',\n",
       "   'content-type': 'application/x-amz-json-1.0',\n",
       "   'content-length': '2',\n",
       "   'connection': 'keep-alive',\n",
       "   'x-amzn-requestid': '68TI818JJS9QRN40BU51RP154FVV4KQNSO5AEMVJF66Q9ASUAAJG',\n",
       "   'x-amz-crc32': '2745614147'},\n",
       "  'RetryAttempts': 0}}"
      ]
     },
     "execution_count": 13,
     "metadata": {},
     "output_type": "execute_result"
    }
   ],
   "source": [
    "new_table = dynamodb.Table(new_table_name)\n",
    "item = {\n",
    "    'id': '1',\n",
    "    'name': 'John Doe',\n",
    "    'salary': 5200\n",
    "}\n",
    "\n",
    "new_table.put_item(Item=item)"
   ]
  },
  {
   "attachments": {},
   "cell_type": "markdown",
   "id": "4a6e68d5",
   "metadata": {},
   "source": [
    "#### Query Inserted Record."
   ]
  },
  {
   "cell_type": "code",
   "execution_count": 14,
   "id": "0796e479",
   "metadata": {},
   "outputs": [],
   "source": [
    "key = {\n",
    "    'id': '1'\n",
    "}\n",
    "\n",
    "response = new_table.get_item(\n",
    "    Key=key\n",
    ")\n",
    "\n",
    "# Access the retrieved item\n",
    "new_item = response['Item']\n",
    "# Process the item as needed"
   ]
  },
  {
   "cell_type": "code",
   "execution_count": 15,
   "id": "ccf4feda",
   "metadata": {},
   "outputs": [
    {
     "data": {
      "text/plain": [
       "{'id': '1', 'name': 'John Doe', 'salary': Decimal('5200')}"
      ]
     },
     "execution_count": 15,
     "metadata": {},
     "output_type": "execute_result"
    }
   ],
   "source": [
    "new_item"
   ]
  }
 ],
 "metadata": {
  "kernelspec": {
   "display_name": "Python 3 (ipykernel)",
   "language": "python",
   "name": "python3"
  },
  "language_info": {
   "codemirror_mode": {
    "name": "ipython",
    "version": 3
   },
   "file_extension": ".py",
   "mimetype": "text/x-python",
   "name": "python",
   "nbconvert_exporter": "python",
   "pygments_lexer": "ipython3",
   "version": "3.7.9"
  }
 },
 "nbformat": 4,
 "nbformat_minor": 5
}
