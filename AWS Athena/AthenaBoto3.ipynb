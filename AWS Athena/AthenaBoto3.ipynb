{
 "cells": [
  {
   "cell_type": "markdown",
   "id": "d0f170ea",
   "metadata": {},
   "source": [
    "# Athena and Boto3"
   ]
  },
  {
   "cell_type": "markdown",
   "id": "547855b1",
   "metadata": {},
   "source": [
    "#### Import BOTO3"
   ]
  },
  {
   "cell_type": "code",
   "execution_count": 105,
   "id": "2061255c",
   "metadata": {},
   "outputs": [],
   "source": [
    "import boto3\n",
    "import pandas as pd\n",
    "import time"
   ]
  },
  {
   "cell_type": "markdown",
   "id": "e554426a",
   "metadata": {},
   "source": [
    "#### Create Session"
   ]
  },
  {
   "cell_type": "code",
   "execution_count": 106,
   "id": "5854073d",
   "metadata": {},
   "outputs": [],
   "source": [
    "session = boto3.Session(\n",
    "    aws_access_key_id='',\n",
    "    aws_secret_access_key='',\n",
    "    region_name='')"
   ]
  },
  {
   "cell_type": "code",
   "execution_count": 107,
   "id": "fc14a184",
   "metadata": {},
   "outputs": [],
   "source": [
    "athena_client = session.client('athena')"
   ]
  },
  {
   "cell_type": "markdown",
   "id": "8a63c3e8",
   "metadata": {},
   "source": [
    "#### Define table properties and Query"
   ]
  },
  {
   "cell_type": "code",
   "execution_count": 108,
   "id": "0b15cfda",
   "metadata": {},
   "outputs": [],
   "source": [
    "database = 'dbname'\n",
    "table_name = 'tblname'"
   ]
  },
  {
   "cell_type": "code",
   "execution_count": 109,
   "id": "7a8e3dc9",
   "metadata": {},
   "outputs": [],
   "source": [
    "create_table_query = f\"\"\"\n",
    "    CREATE EXTERNAL TABLE IF NOT EXISTS {database}.{table_name} (\n",
    "      `customerid` string,\n",
    "      `customername` string,\n",
    "      `segment` string,\n",
    "      `age` int,\n",
    "      `country` string,\n",
    "      `city` string,\n",
    "      `state` string,\n",
    "      `postalcode` int,\n",
    "      `region` string\n",
    "    )\n",
    "    ROW FORMAT SERDE 'org.apache.hadoop.hive.serde2.lazy.LazySimpleSerDe'\n",
    "    WITH SERDEPROPERTIES ('field.delim' = ',')\n",
    "    STORED AS INPUTFORMAT 'org.apache.hadoop.mapred.TextInputFormat' OUTPUTFORMAT 'org.apache.hadoop.hive.ql.io.HiveIgnoreKeyTextOutputFormat'\n",
    "    LOCATION 's3://your-bucket/path-csv/'\n",
    "    TBLPROPERTIES (\n",
    "      'classification' = 'csv',\n",
    "      'skip.header.line.count' = '1'\n",
    "    )\n",
    "\"\"\"\n",
    "\n"
   ]
  },
  {
   "cell_type": "markdown",
   "id": "67055df6",
   "metadata": {},
   "source": [
    "#### Submit Request"
   ]
  },
  {
   "cell_type": "code",
   "execution_count": 110,
   "id": "ef730bf6",
   "metadata": {},
   "outputs": [],
   "source": [
    "output_location = 's3://your-bucket/output_path/'\n",
    "response = athena_client.start_query_execution(\n",
    "    QueryString=create_table_query,\n",
    "    QueryExecutionContext={'Database': database},\n",
    "    ResultConfiguration={'OutputLocation': output_location}\n",
    ")"
   ]
  },
  {
   "cell_type": "markdown",
   "id": "0c1e4962",
   "metadata": {},
   "source": [
    "#### Sample Query from Table"
   ]
  },
  {
   "cell_type": "code",
   "execution_count": 111,
   "id": "1e092453",
   "metadata": {},
   "outputs": [],
   "source": [
    "query = \"SELECT * FROM tblname LIMIT 5\""
   ]
  },
  {
   "cell_type": "code",
   "execution_count": 112,
   "id": "ecff8da4",
   "metadata": {},
   "outputs": [],
   "source": [
    "response = athena_client.start_query_execution(\n",
    "    QueryString=query,\n",
    "    QueryExecutionContext={'Database': database},\n",
    "    ResultConfiguration={'OutputLocation': output_location}\n",
    ")"
   ]
  },
  {
   "cell_type": "code",
   "execution_count": 113,
   "id": "2c12bf21",
   "metadata": {},
   "outputs": [],
   "source": [
    "query_execution_id = response['QueryExecutionId']"
   ]
  },
  {
   "cell_type": "markdown",
   "id": "abc2c806",
   "metadata": {},
   "source": [
    "#### Wait query completion"
   ]
  },
  {
   "cell_type": "code",
   "execution_count": 114,
   "id": "8ba52bee",
   "metadata": {},
   "outputs": [],
   "source": [
    "def wait_for_query_completion(query_execution_id):\n",
    "    while True:\n",
    "        response = athena_client.get_query_execution(QueryExecutionId=query_execution_id)\n",
    "        state = response['QueryExecution']['Status']['State']\n",
    "        \n",
    "        if state in ['SUCCEEDED', 'FAILED', 'CANCELLED']:\n",
    "            break\n",
    "        \n",
    "        # Wait for a few seconds before checking the query status again\n",
    "        time.sleep(2)\n",
    "\n",
    "    return state"
   ]
  },
  {
   "cell_type": "code",
   "execution_count": 115,
   "id": "bc9f09bb",
   "metadata": {},
   "outputs": [],
   "source": [
    "query_state = wait_for_query_completion(query_execution_id)"
   ]
  },
  {
   "cell_type": "code",
   "execution_count": 116,
   "id": "e8cf378a",
   "metadata": {},
   "outputs": [
    {
     "name": "stdout",
     "output_type": "stream",
     "text": [
      "Query execution completed successfully.\n"
     ]
    }
   ],
   "source": [
    "if query_state == 'SUCCEEDED':\n",
    "    print(\"Query execution completed successfully.\")\n",
    "else:\n",
    "    print(\"Query execution failed or was cancelled.\")"
   ]
  },
  {
   "cell_type": "code",
   "execution_count": 118,
   "id": "e9cd24f0",
   "metadata": {},
   "outputs": [],
   "source": [
    "if query_state == 'SUCCEEDED':\n",
    "    # Get the query results\n",
    "    result = athena_client.get_query_results(QueryExecutionId=query_execution_id)\n",
    "\n",
    "    # Extract column names\n",
    "    columns = [col['Label'] for col in result['ResultSet']['ResultSetMetadata']['ColumnInfo']]\n",
    "\n",
    "    # Extract row data\n",
    "    rows = result['ResultSet']['Rows'][1:]  # Exclude the header row\n",
    "\n",
    "    # Convert query result to Pandas DataFrame\n",
    "    data = []\n",
    "    for row in rows:\n",
    "        data.append([val['VarCharValue'] for val in row['Data']])\n",
    "    df = pd.DataFrame(data, columns=columns)\n",
    "else:\n",
    "    print(f\"Query execution failed. Status: {status}\")"
   ]
  },
  {
   "cell_type": "code",
   "execution_count": 119,
   "id": "3eac85d2",
   "metadata": {},
   "outputs": [
    {
     "data": {
      "text/html": [
       "<div>\n",
       "<style scoped>\n",
       "    .dataframe tbody tr th:only-of-type {\n",
       "        vertical-align: middle;\n",
       "    }\n",
       "\n",
       "    .dataframe tbody tr th {\n",
       "        vertical-align: top;\n",
       "    }\n",
       "\n",
       "    .dataframe thead th {\n",
       "        text-align: right;\n",
       "    }\n",
       "</style>\n",
       "<table border=\"1\" class=\"dataframe\">\n",
       "  <thead>\n",
       "    <tr style=\"text-align: right;\">\n",
       "      <th></th>\n",
       "      <th>customerid</th>\n",
       "      <th>customername</th>\n",
       "      <th>segment</th>\n",
       "      <th>age</th>\n",
       "      <th>country</th>\n",
       "      <th>city</th>\n",
       "      <th>state</th>\n",
       "      <th>postalcode</th>\n",
       "      <th>region</th>\n",
       "    </tr>\n",
       "  </thead>\n",
       "  <tbody>\n",
       "    <tr>\n",
       "      <th>0</th>\n",
       "      <td>BH-11710</td>\n",
       "      <td>Brosina Hoffman</td>\n",
       "      <td>Consumer</td>\n",
       "      <td>20</td>\n",
       "      <td>United States</td>\n",
       "      <td>Los Angeles</td>\n",
       "      <td>California</td>\n",
       "      <td>90032</td>\n",
       "      <td>West</td>\n",
       "    </tr>\n",
       "    <tr>\n",
       "      <th>1</th>\n",
       "      <td>ZD-21925</td>\n",
       "      <td>Zuschuss Donatelli</td>\n",
       "      <td>Consumer</td>\n",
       "      <td>66</td>\n",
       "      <td>United States</td>\n",
       "      <td>San Francisco</td>\n",
       "      <td>California</td>\n",
       "      <td>94109</td>\n",
       "      <td>West</td>\n",
       "    </tr>\n",
       "    <tr>\n",
       "      <th>2</th>\n",
       "      <td>EH-13945</td>\n",
       "      <td>Eric Hoffmann</td>\n",
       "      <td>Consumer</td>\n",
       "      <td>21</td>\n",
       "      <td>United States</td>\n",
       "      <td>Los Angeles</td>\n",
       "      <td>California</td>\n",
       "      <td>90049</td>\n",
       "      <td>West</td>\n",
       "    </tr>\n",
       "    <tr>\n",
       "      <th>3</th>\n",
       "      <td>RA-19885</td>\n",
       "      <td>Ruben Ausman</td>\n",
       "      <td>Corporate</td>\n",
       "      <td>51</td>\n",
       "      <td>United States</td>\n",
       "      <td>Los Angeles</td>\n",
       "      <td>Cakifornia</td>\n",
       "      <td>90049</td>\n",
       "      <td>West</td>\n",
       "    </tr>\n",
       "    <tr>\n",
       "      <th>4</th>\n",
       "      <td>KM-16720</td>\n",
       "      <td>Kunst Miller</td>\n",
       "      <td>Consumer</td>\n",
       "      <td>69</td>\n",
       "      <td>United States</td>\n",
       "      <td>Los Angeles</td>\n",
       "      <td>California</td>\n",
       "      <td>90004</td>\n",
       "      <td>West</td>\n",
       "    </tr>\n",
       "  </tbody>\n",
       "</table>\n",
       "</div>"
      ],
      "text/plain": [
       "  customerid        customername    segment age        country           city  \\\n",
       "0   BH-11710     Brosina Hoffman   Consumer  20  United States    Los Angeles   \n",
       "1   ZD-21925  Zuschuss Donatelli   Consumer  66  United States  San Francisco   \n",
       "2   EH-13945       Eric Hoffmann   Consumer  21  United States    Los Angeles   \n",
       "3   RA-19885        Ruben Ausman  Corporate  51  United States    Los Angeles   \n",
       "4   KM-16720        Kunst Miller   Consumer  69  United States    Los Angeles   \n",
       "\n",
       "        state postalcode region  \n",
       "0  California      90032   West  \n",
       "1  California      94109   West  \n",
       "2  California      90049   West  \n",
       "3  Cakifornia      90049   West  \n",
       "4  California      90004   West  "
      ]
     },
     "execution_count": 119,
     "metadata": {},
     "output_type": "execute_result"
    }
   ],
   "source": [
    "df.head()"
   ]
  }
 ],
 "metadata": {
  "kernelspec": {
   "display_name": "Python 3 (ipykernel)",
   "language": "python",
   "name": "python3"
  },
  "language_info": {
   "codemirror_mode": {
    "name": "ipython",
    "version": 3
   },
   "file_extension": ".py",
   "mimetype": "text/x-python",
   "name": "python",
   "nbconvert_exporter": "python",
   "pygments_lexer": "ipython3",
   "version": "3.7.9"
  }
 },
 "nbformat": 4,
 "nbformat_minor": 5
}
